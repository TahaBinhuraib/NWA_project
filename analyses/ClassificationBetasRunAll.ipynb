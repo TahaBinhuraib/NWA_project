{
 "cells": [
  {
   "cell_type": "code",
   "execution_count": 7,
   "id": "014ec2ef-9ae2-4e41-a077-23cfecc908b8",
   "metadata": {},
   "outputs": [],
   "source": [
    "import numpy as np\n",
    "import pandas as pd\n",
    "import matplotlib.pyplot as plt\n",
    "from sklearn.model_selection import train_test_split\n",
    "from sklearn.linear_model import LogisticRegression\n",
    "from sklearn.preprocessing import StandardScaler\n",
    "from sklearn import metrics\n",
    "from sklearn.preprocessing import StandardScaler\n",
    "from sklearn.metrics import mean_absolute_error\n",
    "from sklearn.tree import DecisionTreeRegressor\n",
    "from sklearn.linear_model import LinearRegression\n",
    "import seaborn as sns\n",
    "from sklearn.metrics import confusion_matrix\n",
    "import os\n",
    "\n",
    "HCP_DIR = \"./hcp\"\n",
    "# The data shared for NMA projects is a subset of the full HCP dataset\n",
    "N_SUBJECTS = 339\n",
    "\n",
    "# The data have already been aggregated into ROIs from the Glasser parcellation\n",
    "N_PARCELS = 360\n",
    "\n",
    "# The acquisition parameters for all tasks were identical\n",
    "TR = 0.72  # Time resolution, in seconds\n",
    "\n",
    "# The parcels are matched across hemispheres with the same order\n",
    "HEMIS = [\"Right\", \"Left\"]\n",
    "\n",
    "# Each experiment was repeated twice in each subject\n",
    "N_RUNS = 2\n",
    "regions = np.load(f\"{HCP_DIR}/regions.npy\").T\n",
    "region_info = dict(\n",
    "    name=regions[0].tolist(),\n",
    "    network=regions[1],\n",
    "    hemi=['Right']*int(N_PARCELS/2) + ['Left']*int(N_PARCELS/2),\n",
    ")"
   ]
  },
  {
   "cell_type": "code",
   "execution_count": 8,
   "id": "534e085a-f413-469e-8644-7718e4d0752c",
   "metadata": {},
   "outputs": [],
   "source": [
    "betasWin1 = np.load('betasRun2Loss.npy')\n",
    "betasLoss1 = np.load('betasRun2Win.npy')\n",
    "\n",
    "betasWin0 = np.load('betasWinNumpyRzero.npy')\n",
    "betasLoss0 = np.load('betasLossNumpyrRzero.npy')"
   ]
  },
  {
   "cell_type": "code",
   "execution_count": 9,
   "id": "32e2e40c-55f7-4bf7-8af2-135da0847205",
   "metadata": {},
   "outputs": [],
   "source": [
    "NumberofSubjects = 339\n",
    "one0 = np.ones(NumberofSubjects)\n",
    "zero0 = np.zeros(NumberofSubjects)\n",
    "one1 = np.ones(NumberofSubjects)\n",
    "zero1 = np.zeros(NumberofSubjects)"
   ]
  },
  {
   "cell_type": "code",
   "execution_count": 10,
   "id": "e1d96490-6775-42ba-b8cc-93cbda1a2791",
   "metadata": {},
   "outputs": [
    {
     "name": "stdout",
     "output_type": "stream",
     "text": [
      "X_train shape is (1084, 360)\n",
      "X_test shape is (272, 360) \n",
      "y_train shape is (1084,) \n",
      "y_test shape is (272,)\n"
     ]
    }
   ],
   "source": [
    "import math\n",
    "subjectsTrainforWins = math.floor(NumberofSubjects*0.8) \n",
    "subjectsTrainforLoss = subjectsTrainforWins\n",
    "X_trainWins1 = betasWin1[:subjectsTrainforWins]\n",
    "y_trainWins1 = one1[:subjectsTrainforWins]\n",
    "\n",
    "X_testWins1 = betasWin1[subjectsTrainforWins:]\n",
    "y_testWins1 = one1[subjectsTrainforWins:]\n",
    "\n",
    "\n",
    "X_trainLoss1 = betasLoss1[:subjectsTrainforLoss]\n",
    "y_trainLoss1 = zero1[:subjectsTrainforLoss]\n",
    "\n",
    "X_testLoss1 = betasLoss1[subjectsTrainforLoss:]\n",
    "y_testLoss1 = zero1[subjectsTrainforLoss:]\n",
    "\n",
    "\n",
    "\n",
    "\n",
    "\n",
    "X_train1 = np.concatenate((X_trainWins1,X_trainLoss1))\n",
    "\n",
    "y_train1 = np.concatenate((y_trainWins1,y_trainLoss1))\n",
    "\n",
    "X_test1 = np.concatenate((X_testWins1,X_testLoss1))\n",
    "y_test1 = np.concatenate((y_testWins1,y_testLoss1))\n",
    "\n",
    "#####################################################################\n",
    "\n",
    "X_trainWins0 = betasWin0[:subjectsTrainforWins]\n",
    "y_trainWins0 = one0[:subjectsTrainforWins]\n",
    "\n",
    "X_testWins0 = betasWin0[subjectsTrainforWins:]\n",
    "y_testWins0 = one0[subjectsTrainforWins:]\n",
    "\n",
    "\n",
    "X_trainLoss0 = betasLoss0[:subjectsTrainforLoss]\n",
    "y_trainLoss0 = zero0[:subjectsTrainforLoss]\n",
    "\n",
    "X_testLoss0 = betasLoss0[subjectsTrainforLoss:]\n",
    "y_testLoss0 = zero0[subjectsTrainforLoss:]\n",
    "\n",
    "\n",
    "\n",
    "\n",
    "\n",
    "X_train0 = np.concatenate((X_trainWins0,X_trainLoss0))\n",
    "\n",
    "y_train0 = np.concatenate((y_trainWins0,y_trainLoss0))\n",
    "\n",
    "X_test0 = np.concatenate((X_testWins0,X_testLoss0))\n",
    "y_test0 = np.concatenate((y_testWins0,y_testLoss0))\n",
    "\n",
    "\n",
    "###################################################################################3\n",
    "\n",
    "X_train = np.concatenate((X_train0 , X_train1))\n",
    "X_test = np.concatenate((X_test0 , X_test1))\n",
    "\n",
    "y_train = np.concatenate((y_train0 , y_train0))\n",
    "y_test = np.concatenate((y_test0 , y_test1))\n",
    "\n",
    "\n",
    "print(f'X_train shape is {X_train.shape}\\nX_test shape is {X_test.shape} \\ny_train shape is {y_train.shape} \\ny_test shape is {y_test.shape}')"
   ]
  },
  {
   "cell_type": "code",
   "execution_count": 22,
   "id": "2890f2cb-546f-4d0f-a903-af706296d241",
   "metadata": {},
   "outputs": [],
   "source": [
    "np.save('X_trainNN.npy' , X_train)\n",
    "np.save('X_testNN.npy' , X_test)\n",
    "np.save('y_trainNN.npy' , y_train)\n",
    "np.save('y_testNN.npy' , y_test)\n"
   ]
  },
  {
   "cell_type": "code",
   "execution_count": 11,
   "id": "c1c09093-5ba1-447f-9ee4-d8d13b146690",
   "metadata": {},
   "outputs": [],
   "source": [
    "scaler_X = StandardScaler()\n",
    "f_transformer = scaler_X.fit(X_train)\n",
    "\n",
    "X_train = f_transformer.transform(X_train)\n",
    "X_test = f_transformer.transform(X_test)"
   ]
  },
  {
   "cell_type": "code",
   "execution_count": 16,
   "id": "66222526-02a8-42af-b5b7-9a4db59dd43a",
   "metadata": {},
   "outputs": [
    {
     "data": {
      "text/plain": [
       "LogisticRegression(max_iter=3000)"
      ]
     },
     "execution_count": 16,
     "metadata": {},
     "output_type": "execute_result"
    }
   ],
   "source": [
    "logisticRegr = LogisticRegression(max_iter = 3000)\n",
    "logisticRegr.fit(X_train, y_train)"
   ]
  },
  {
   "cell_type": "code",
   "execution_count": 17,
   "id": "20fea0dc-f81e-40d0-adc8-f926ce753fbc",
   "metadata": {},
   "outputs": [
    {
     "name": "stdout",
     "output_type": "stream",
     "text": [
      "0.7205882352941176\n"
     ]
    }
   ],
   "source": [
    "score = logisticRegr.score(X_test, y_test)\n",
    "print(score)"
   ]
  },
  {
   "cell_type": "code",
   "execution_count": 18,
   "id": "9dbd6d1c-1229-4348-98c4-f27861b57d5d",
   "metadata": {},
   "outputs": [
    {
     "data": {
      "text/plain": [
       "<BarContainer object of 10 artists>"
      ]
     },
     "execution_count": 18,
     "metadata": {},
     "output_type": "execute_result"
    },
    {
     "data": {
      "image/png": "[encoded data removed]",
      "text/plain": [
       "<Figure size 864x504 with 1 Axes>"
      ]
     },
     "metadata": {
      "needs_background": "light"
     },
     "output_type": "display_data"
    }
   ],
   "source": [
    "weights = np.ravel(logisticRegr.coef_)\n",
    "weights = weights*10\n",
    "regionsWights = regions[0]\n",
    "\n",
    "indices = (-weights).argsort()[:10]\n",
    "plt.figure(figsize = (12,7))\n",
    "\n",
    "plt.bar(regionsWights[indices] , weights[indices], width =0.5)\n",
    "\n"
   ]
  },
  {
   "cell_type": "code",
   "execution_count": 19,
   "id": "3e98fde4-584f-44e1-881a-94d550c46e22",
   "metadata": {},
   "outputs": [
    {
     "data": {
      "text/plain": [
       "array(['Posterior-Mu', 'Auditory', 'Cingulo-Oper', 'Visual2',\n",
       "       'Dorsal-atten', 'Posterior-Mu', 'Language', 'Frontopariet',\n",
       "       'Visual2', 'Visual2'], dtype='<U12')"
      ]
     },
     "execution_count": 19,
     "metadata": {},
     "output_type": "execute_result"
    }
   ],
   "source": [
    "regions[1][indices]"
   ]
  },
  {
   "cell_type": "code",
   "execution_count": 20,
   "id": "0055c47e-4e12-4c3d-8fc2-05f9409b626e",
   "metadata": {},
   "outputs": [
    {
     "name": "stdout",
     "output_type": "stream",
     "text": [
      "[[ 96  40]\n",
      " [ 36 100]]\n"
     ]
    }
   ],
   "source": [
    "predictions = logisticRegr.predict(X_test)\n",
    "ConfusionMatrix = metrics.confusion_matrix(y_test, predictions)\n",
    "print(ConfusionMatrix)"
   ]
  },
  {
   "cell_type": "code",
   "execution_count": 21,
   "id": "90a5a3d0-41f1-4f69-94eb-0a28fb95a5fd",
   "metadata": {},
   "outputs": [
    {
     "data": {
      "image/png": "[encoded data removed]",
      "text/plain": [
       "<Figure size 432x288 with 2 Axes>"
      ]
     },
     "metadata": {
      "needs_background": "light"
     },
     "output_type": "display_data"
    }
   ],
   "source": [
    "sns.heatmap(ConfusionMatrix, annot=True, fmt=\".3f\", linewidths=.5, square = True, cmap = 'Blues_r');\n",
    "plt.ylabel('Actual label');\n",
    "plt.xlabel('Predicted label');\n",
    "all_sample_title = 'Accuracy Score: {0}'.format(score)\n",
    "plt.title(all_sample_title, size = 15);"
   ]
  },
  {
   "cell_type": "code",
   "execution_count": 24,
   "id": "fbb73b98-415e-4d7e-b814-64aad7fd867b",
   "metadata": {},
   "outputs": [],
   "source": [
    "np.save('WeightsLogisticRegressionRunAll.npy' , weights)"
   ]
  },
  {
   "cell_type": "code",
   "execution_count": null,
   "id": "56f8e71f-ebb1-404e-b678-3fccb5922899",
   "metadata": {},
   "outputs": [],
   "source": []
  }
 ],
 "metadata": {
  "kernelspec": {
   "display_name": "Python 3",
   "language": "python",
   "name": "python3"
  },
  "language_info": {
   "codemirror_mode": {
    "name": "ipython",
    "version": 3
   },
   "file_extension": ".py",
   "mimetype": "text/x-python",
   "name": "python",
   "nbconvert_exporter": "python",
   "pygments_lexer": "ipython3",
   "version": "3.7.10"
  }
 },
 "nbformat": 4,
 "nbformat_minor": 5
}
