{
  "nbformat": 4,
  "nbformat_minor": 0,
  "metadata": {
    "colab": {
      "name": "BinaryPredictionPyTorch.ipynb",
      "provenance": []
    },
    "kernelspec": {
      "name": "python3",
      "display_name": "Python 3"
    },
    "language_info": {
      "name": "python"
    },
    "accelerator": "GPU"
  },
  "cells": [
    {
      "cell_type": "code",
      "metadata": {
        "colab": {
          "base_uri": "https://localhost:8080/"
        },
        "id": "UF5zwq_vUehH",
        "outputId": "4478c198-5f5e-4e2e-99ff-b4a295d4db19"
      },
      "source": [
        "import torch\n",
        "\n",
        "import numpy as np\n",
        "import pandas as pd\n",
        "import seaborn as sns\n",
        "from pylab import rcParams\n",
        "import matplotlib.pyplot as plt\n",
        "from matplotlib import rc\n",
        "from sklearn.model_selection import train_test_split\n",
        "from sklearn.metrics import confusion_matrix, classification_report\n",
        "from collections import defaultdict\n",
        "from sklearn.preprocessing import StandardScaler\n",
        "from torch import nn, optim\n",
        "from torch.utils.data import Dataset, DataLoader\n",
        "import torch.nn.functional as F\n",
        "device = torch.device(\"cuda:0\" if torch.cuda.is_available() else \"cpu\")\n",
        "device"
      ],
      "execution_count": 1,
      "outputs": [
        {
          "output_type": "execute_result",
          "data": {
            "text/plain": [
              "device(type='cuda', index=0)"
            ]
          },
          "metadata": {
            "tags": []
          },
          "execution_count": 1
        }
      ]
    },
    {
      "cell_type": "code",
      "metadata": {
        "colab": {
          "base_uri": "https://localhost:8080/"
        },
        "id": "SyclCZrrU4pw",
        "outputId": "fb847ba7-068f-4847-f2d2-4d6c7ea6c723"
      },
      "source": [
        "!nvidia-smi"
      ],
      "execution_count": 2,
      "outputs": [
        {
          "output_type": "stream",
          "text": [
            "Wed Jul 14 15:38:47 2021       \n",
            "+-----------------------------------------------------------------------------+\n",
            "| NVIDIA-SMI 470.42.01    Driver Version: 460.32.03    CUDA Version: 11.2     |\n",
            "|-------------------------------+----------------------+----------------------+\n",
            "| GPU  Name        Persistence-M| Bus-Id        Disp.A | Volatile Uncorr. ECC |\n",
            "| Fan  Temp  Perf  Pwr:Usage/Cap|         Memory-Usage | GPU-Util  Compute M. |\n",
            "|                               |                      |               MIG M. |\n",
            "|===============================+======================+======================|\n",
            "|   0  Tesla T4            Off  | 00000000:00:04.0 Off |                    0 |\n",
            "| N/A   65C    P8    12W /  70W |      3MiB / 15109MiB |      0%      Default |\n",
            "|                               |                      |                  N/A |\n",
            "+-------------------------------+----------------------+----------------------+\n",
            "                                                                               \n",
            "+-----------------------------------------------------------------------------+\n",
            "| Processes:                                                                  |\n",
            "|  GPU   GI   CI        PID   Type   Process name                  GPU Memory |\n",
            "|        ID   ID                                                   Usage      |\n",
            "|=============================================================================|\n",
            "|  No running processes found                                                 |\n",
            "+-----------------------------------------------------------------------------+\n"
          ],
          "name": "stdout"
        }
      ]
    },
    {
      "cell_type": "code",
      "metadata": {
        "colab": {
          "base_uri": "https://localhost:8080/"
        },
        "id": "ECrtQ_4xVBXZ",
        "outputId": "52151cdd-027b-4855-9bed-9206924a0242"
      },
      "source": [
        "from google.colab import drive\n",
        "drive.mount('/content/drive')"
      ],
      "execution_count": 3,
      "outputs": [
        {
          "output_type": "stream",
          "text": [
            "Mounted at /content/drive\n"
          ],
          "name": "stdout"
        }
      ]
    },
    {
      "cell_type": "code",
      "metadata": {
        "colab": {
          "base_uri": "https://localhost:8080/"
        },
        "id": "nQl5AmyjXXms",
        "outputId": "07d40bb7-4041-415a-cb98-5b301ec157bd"
      },
      "source": [
        "from datetime import datetime\n",
        "import matplotlib.pyplot as plt\n",
        "X = np.load('/content/drive/MyDrive/XbrainRegions.npy')\n",
        "y = np.load('/content/drive/MyDrive/YbrainRegions.npy')\n",
        "\n",
        "X.shape"
      ],
      "execution_count": 4,
      "outputs": [
        {
          "output_type": "execute_result",
          "data": {
            "text/plain": [
              "(678, 360)"
            ]
          },
          "metadata": {
            "tags": []
          },
          "execution_count": 4
        }
      ]
    },
    {
      "cell_type": "code",
      "metadata": {
        "colab": {
          "base_uri": "https://localhost:8080/"
        },
        "id": "ndElf_nQX3Y0",
        "outputId": "271d4b44-0cc7-4294-b0ef-c2ccd16d602e"
      },
      "source": [
        "X_train, X_test, y_train, y_test = train_test_split(X, y, test_size=0.25, random_state=0)\n",
        "print(f'X_train shape is {X_train.shape}\\nX_test shape is {X_test.shape} \\ny_train shape is {y_train.shape} \\ny_test shape is {y_test.shape}')\n",
        "scaler_X = StandardScaler()\n",
        "f_transformer = scaler_X.fit(X_train)\n",
        "\n",
        "X_train = f_transformer.transform(X_train)\n",
        "X_test = f_transformer.transform(X_test)"
      ],
      "execution_count": 5,
      "outputs": [
        {
          "output_type": "stream",
          "text": [
            "X_train shape is (508, 360)\n",
            "X_test shape is (170, 360) \n",
            "y_train shape is (508,) \n",
            "y_test shape is (170,)\n"
          ],
          "name": "stdout"
        }
      ]
    },
    {
      "cell_type": "code",
      "metadata": {
        "colab": {
          "base_uri": "https://localhost:8080/"
        },
        "id": "CwfQskokj3yp",
        "outputId": "bd0b5da3-8506-4db2-cd4f-de5ad330b609"
      },
      "source": [
        "torch.Tensor(X_train[0][:5])"
      ],
      "execution_count": 7,
      "outputs": [
        {
          "output_type": "execute_result",
          "data": {
            "text/plain": [
              "tensor([-0.1422, -1.7029,  0.7862, -0.2367, -0.6796])"
            ]
          },
          "metadata": {
            "tags": []
          },
          "execution_count": 7
        }
      ]
    },
    {
      "cell_type": "code",
      "metadata": {
        "id": "gLN1FBycX-XA"
      },
      "source": [
        "class BrainData(Dataset):\n",
        "  def __init__(self, X , y):\n",
        "    self.Xdata = X\n",
        "    self.ydata = y\n",
        "\n",
        "  def __len__(self):\n",
        "    return len(self.Xdata)\n",
        "\n",
        "  def __getitem__(self , idx):\n",
        "    oneXdata = self.Xdata[idx]\n",
        "    oneydata = self.ydata[idx]\n",
        "\n",
        "    return {'Xdata':torch.as_tensor(oneXdata) , 'ydata':torch.as_tensor(oneydata , dtype=torch.long) }\n"
      ],
      "execution_count": 8,
      "outputs": []
    },
    {
      "cell_type": "code",
      "metadata": {
        "id": "-_s49tSxahWZ"
      },
      "source": [
        "trainData = BrainData(X_train , y_train)\n",
        "testData = BrainData(X_test , y_test)\n",
        "batch_size = 16\n",
        "trainDataLoader = DataLoader(trainData , batch_size=batch_size)\n",
        "testDataLoader = DataLoader(testData , batch_size=batch_size)"
      ],
      "execution_count": 9,
      "outputs": []
    },
    {
      "cell_type": "code",
      "metadata": {
        "colab": {
          "base_uri": "https://localhost:8080/"
        },
        "id": "BEYJ6qkVbIXt",
        "outputId": "2d22c15a-2333-46ae-acd0-b9d247c6492d"
      },
      "source": [
        "for i in trainDataLoader:\n",
        "  print(i)\n",
        "  break"
      ],
      "execution_count": 10,
      "outputs": [
        {
          "output_type": "stream",
          "text": [
            "{'Xdata': tensor([[-0.1422, -1.7029,  0.7862,  ...,  0.3148,  1.4860,  0.5216],\n",
            "        [ 1.3487,  0.6773,  0.3015,  ...,  0.5750,  0.4483,  0.1074],\n",
            "        [ 0.8327,  0.6699,  0.4024,  ...,  0.7074, -0.1462, -0.4517],\n",
            "        ...,\n",
            "        [ 0.3092, -0.4280,  0.9820,  ...,  0.2023,  1.0154, -0.0419],\n",
            "        [ 0.4603,  0.3684,  0.0385,  ..., -0.7210, -0.3252,  0.3339],\n",
            "        [ 0.1625, -0.8549, -1.2531,  ..., -0.1456,  0.9415, -3.1991]],\n",
            "       dtype=torch.float64), 'ydata': tensor([0, 1, 0, 0, 1, 1, 1, 1, 1, 1, 0, 0, 1, 0, 0, 0])}\n"
          ],
          "name": "stdout"
        }
      ]
    },
    {
      "cell_type": "code",
      "metadata": {
        "id": "TKBDkjO6bPWO"
      },
      "source": [
        "class BinaryPrediction(nn.Module):\n",
        "  def __init__(self, numofHiddenNeurons):\n",
        "    super().__init__()\n",
        "    self.out1 = nn.Linear(360 ,numofHiddenNeurons )\n",
        "    self.out2 = nn.Linear(numofHiddenNeurons , 256)\n",
        "    self.out3 = nn.Linear(256 , 2)\n",
        "    self.nonLinearity = nn.ReLU()\n",
        "    self.dropout = nn.Dropout(0.1)\n",
        "  \n",
        "\n",
        "  def forward(self , X):\n",
        "    o = self.out1(X)\n",
        "    o = self.dropout(o)\n",
        "    o = self.nonLinearity(o)\n",
        "    o = self.out2(o)\n",
        "    o = self.dropout(o)\n",
        "    o = self.nonLinearity(o)\n",
        "    o = self.out3(o)\n",
        "\n",
        "    return o\n",
        "\n",
        "\n",
        "model = BinaryPrediction(512)\n",
        "model = model.to(device)\n",
        "\n",
        "\n"
      ],
      "execution_count": 101,
      "outputs": []
    },
    {
      "cell_type": "code",
      "metadata": {
        "id": "kJ7-xU3-e42J"
      },
      "source": [
        "EPOCHS = 50\n",
        "from torch.optim import AdamW\n",
        "optimizer = AdamW(model.parameters(), lr=1e-5)\n",
        "loss_fn = nn.CrossEntropyLoss().to(device)"
      ],
      "execution_count": 102,
      "outputs": []
    },
    {
      "cell_type": "code",
      "metadata": {
        "colab": {
          "base_uri": "https://localhost:8080/"
        },
        "id": "vmJ4cuJHlqvl",
        "outputId": "1d8e75f2-75f6-42c1-ed9d-719220b16705"
      },
      "source": [
        "model.double()"
      ],
      "execution_count": 103,
      "outputs": [
        {
          "output_type": "execute_result",
          "data": {
            "text/plain": [
              "BinaryPrediction(\n",
              "  (out1): Linear(in_features=360, out_features=512, bias=True)\n",
              "  (out2): Linear(in_features=512, out_features=256, bias=True)\n",
              "  (out3): Linear(in_features=256, out_features=2, bias=True)\n",
              "  (nonLinearity): ReLU()\n",
              "  (dropout): Dropout(p=0.1, inplace=False)\n",
              ")"
            ]
          },
          "metadata": {
            "tags": []
          },
          "execution_count": 103
        }
      ]
    },
    {
      "cell_type": "code",
      "metadata": {
        "id": "z6QHPSucfkZX"
      },
      "source": [
        "def train_epoch(\n",
        "  model, \n",
        "  data_loader, \n",
        "  loss_fn, \n",
        "  optimizer, \n",
        "  device,  \n",
        "  n_examples\n",
        "):\n",
        "  model = model.train()\n",
        "\n",
        "  losses = []\n",
        "  correct_predictions = 0\n",
        "  \n",
        "  for d in data_loader:\n",
        "    X = d[\"Xdata\"].to(device)\n",
        "    targets = d[\"ydata\"].to(device)\n",
        "\n",
        "    outputs = model(X)\n",
        "\n",
        "    _, preds = torch.max(outputs, dim=1)\n",
        "    loss = loss_fn(outputs, targets)\n",
        "\n",
        "    correct_predictions += torch.sum(preds == targets)\n",
        "    losses.append(loss.item())\n",
        "    optimizer.zero_grad()\n",
        "    loss.backward()\n",
        "    optimizer.step()\n",
        "  \n",
        "\n",
        "  return correct_predictions.double() / n_examples, np.mean(losses)"
      ],
      "execution_count": 104,
      "outputs": []
    },
    {
      "cell_type": "code",
      "metadata": {
        "colab": {
          "base_uri": "https://localhost:8080/"
        },
        "id": "n2vOST49jWeF",
        "outputId": "7aa1fb91-9510-48c8-c929-529420411f6e"
      },
      "source": [
        "float(len(X_train))"
      ],
      "execution_count": 105,
      "outputs": [
        {
          "output_type": "execute_result",
          "data": {
            "text/plain": [
              "508.0"
            ]
          },
          "metadata": {
            "tags": []
          },
          "execution_count": 105
        }
      ]
    },
    {
      "cell_type": "code",
      "metadata": {
        "colab": {
          "base_uri": "https://localhost:8080/"
        },
        "id": "Jm7Um3g1iOW1",
        "outputId": "3a7a7acf-874b-48f0-c054-6509d85ac4fe"
      },
      "source": [
        "\n",
        "for epoch in range(EPOCHS):\n",
        "  \n",
        "  \n",
        "  train_acc, train_loss = train_epoch(\n",
        "    model,\n",
        "    trainDataLoader,    \n",
        "    loss_fn, \n",
        "    optimizer, \n",
        "    device, \n",
        "    float(len(X_train))\n",
        "  )\n",
        "  if((epoch+1) %10 == 0):\n",
        "\n",
        "    print(f'Epoch {epoch + 1}/{EPOCHS}')\n",
        "    print('-' * 10)\n",
        "\n",
        "  \n",
        "    print(f'Train loss {train_loss} accuracy {train_acc}')\n",
        "\n",
        "\n",
        "  \n",
        "\n"
      ],
      "execution_count": 106,
      "outputs": [
        {
          "output_type": "stream",
          "text": [
            "Epoch 10/50\n",
            "----------\n",
            "Train loss 0.6014170930743316 accuracy 0.7519685039370079\n",
            "Epoch 20/50\n",
            "----------\n",
            "Train loss 0.48835581646444703 accuracy 0.860236220472441\n",
            "Epoch 30/50\n",
            "----------\n",
            "Train loss 0.3711421143672693 accuracy 0.9035433070866141\n",
            "Epoch 40/50\n",
            "----------\n",
            "Train loss 0.2818467871910084 accuracy 0.9251968503937008\n",
            "Epoch 50/50\n",
            "----------\n",
            "Train loss 0.20612590217763127 accuracy 0.9665354330708661\n"
          ],
          "name": "stdout"
        }
      ]
    },
    {
      "cell_type": "code",
      "metadata": {
        "id": "GlYwcupri2W3"
      },
      "source": [
        "def eval_model(model, data_loader, loss_fn, device, n_examples):\n",
        "  model = model.eval()\n",
        "\n",
        "  losses = []\n",
        "  correct_predictions = 0\n",
        "\n",
        "  with torch.no_grad():\n",
        "    for d in data_loader:\n",
        "    \n",
        "      X = d[\"Xdata\"].to(device)\n",
        "      targets = d[\"ydata\"].to(device)\n",
        "\n",
        "      outputs = model(X)\n",
        "\n",
        "\n",
        "      _, preds = torch.max(outputs, dim=1)\n",
        "\n",
        "      loss = loss_fn(outputs, targets)\n",
        "\n",
        "      correct_predictions += torch.sum(preds == targets)\n",
        "      losses.append(loss.item())\n",
        "\n",
        "  return correct_predictions.double() / n_examples, np.mean(losses)"
      ],
      "execution_count": 107,
      "outputs": []
    },
    {
      "cell_type": "code",
      "metadata": {
        "colab": {
          "base_uri": "https://localhost:8080/"
        },
        "id": "UpcTvJsDr_N0",
        "outputId": "c2a96a78-4983-47f1-b524-0983bb2e9020"
      },
      "source": [
        "test_acc, _ = eval_model(\n",
        "  model,\n",
        "  testDataLoader ,\n",
        "  loss_fn,\n",
        "  device,\n",
        "  len(X_test)\n",
        ")\n",
        "\n",
        "test_acc"
      ],
      "execution_count": 108,
      "outputs": [
        {
          "output_type": "execute_result",
          "data": {
            "text/plain": [
              "tensor(0.8882, device='cuda:0', dtype=torch.float64)"
            ]
          },
          "metadata": {
            "tags": []
          },
          "execution_count": 108
        }
      ]
    },
    {
      "cell_type": "code",
      "metadata": {
        "id": "97M-8tJSsK6l"
      },
      "source": [
        ""
      ],
      "execution_count": null,
      "outputs": []
    }
  ]
}