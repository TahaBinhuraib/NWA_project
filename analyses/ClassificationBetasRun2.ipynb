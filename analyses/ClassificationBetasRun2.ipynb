{
 "cells": [
  {
   "cell_type": "code",
   "execution_count": 7,
   "id": "014ec2ef-9ae2-4e41-a077-23cfecc908b8",
   "metadata": {},
   "outputs": [],
   "source": [
    "import numpy as np\n",
    "import pandas as pd\n",
    "import matplotlib.pyplot as plt\n",
    "from sklearn.model_selection import train_test_split\n",
    "from sklearn.linear_model import LogisticRegression\n",
    "from sklearn.preprocessing import StandardScaler\n",
    "from sklearn import metrics\n",
    "from sklearn.preprocessing import StandardScaler\n",
    "from sklearn.metrics import mean_absolute_error\n",
    "from sklearn.tree import DecisionTreeRegressor\n",
    "from sklearn.linear_model import LinearRegression\n",
    "import seaborn as sns\n",
    "from sklearn.metrics import confusion_matrix\n",
    "import os\n",
    "\n",
    "HCP_DIR = \"./hcp\"\n",
    "# The data shared for NMA projects is a subset of the full HCP dataset\n",
    "N_SUBJECTS = 339\n",
    "\n",
    "# The data have already been aggregated into ROIs from the Glasser parcellation\n",
    "N_PARCELS = 360\n",
    "\n",
    "# The acquisition parameters for all tasks were identical\n",
    "TR = 0.72  # Time resolution, in seconds\n",
    "\n",
    "# The parcels are matched across hemispheres with the same order\n",
    "HEMIS = [\"Right\", \"Left\"]\n",
    "\n",
    "# Each experiment was repeated twice in each subject\n",
    "N_RUNS = 2\n",
    "regions = np.load(f\"{HCP_DIR}/regions.npy\").T\n",
    "region_info = dict(\n",
    "    name=regions[0].tolist(),\n",
    "    network=regions[1],\n",
    "    hemi=['Right']*int(N_PARCELS/2) + ['Left']*int(N_PARCELS/2),\n",
    ")"
   ]
  },
  {
   "cell_type": "code",
   "execution_count": 8,
   "id": "534e085a-f413-469e-8644-7718e4d0752c",
   "metadata": {},
   "outputs": [],
   "source": [
    "betasWin = np.load('betasRun2Loss.npy')\n",
    "betasLoss = np.load('betasRun2Win.npy')\n"
   ]
  },
  {
   "cell_type": "code",
   "execution_count": 9,
   "id": "32e2e40c-55f7-4bf7-8af2-135da0847205",
   "metadata": {},
   "outputs": [],
   "source": [
    "NumberofSubjects = 339\n",
    "one = np.ones(NumberofSubjects)\n",
    "zero = np.zeros(NumberofSubjects)"
   ]
  },
  {
   "cell_type": "code",
   "execution_count": 10,
   "id": "e1d96490-6775-42ba-b8cc-93cbda1a2791",
   "metadata": {},
   "outputs": [
    {
     "name": "stdout",
     "output_type": "stream",
     "text": [
      "X_train shape is (542, 360)\n",
      "X_test shape is (136, 360) \n",
      "y_train shape is (542,) \n",
      "y_test shape is (136,)\n"
     ]
    }
   ],
   "source": [
    "import math\n",
    "subjectsTrainforWins = math.floor(NumberofSubjects*0.8) \n",
    "subjectsTrainforLoss = subjectsTrainforWins\n",
    "X_trainWins = betasWin[:subjectsTrainforWins]\n",
    "y_trainWins = one[:subjectsTrainforWins]\n",
    "\n",
    "X_testWins = betasWin[subjectsTrainforWins:]\n",
    "y_testWins = one[subjectsTrainforWins:]\n",
    "\n",
    "\n",
    "X_trainLoss = betasLoss[:subjectsTrainforLoss]\n",
    "y_trainLoss = zero[:subjectsTrainforLoss]\n",
    "\n",
    "X_testLoss = betasLoss[subjectsTrainforLoss:]\n",
    "y_testLoss = zero[subjectsTrainforLoss:]\n",
    "\n",
    "\n",
    "X_train = np.concatenate((X_trainWins,X_trainLoss))\n",
    "\n",
    "y_train = np.concatenate((y_trainWins,y_trainLoss))\n",
    "\n",
    "X_test = np.concatenate((X_testWins,X_testLoss))\n",
    "y_test = np.concatenate((y_testWins,y_testLoss))\n",
    "\n",
    "print(f'X_train shape is {X_train.shape}\\nX_test shape is {X_test.shape} \\ny_train shape is {y_train.shape} \\ny_test shape is {y_test.shape}')"
   ]
  },
  {
   "cell_type": "code",
   "execution_count": 11,
   "id": "c1c09093-5ba1-447f-9ee4-d8d13b146690",
   "metadata": {},
   "outputs": [],
   "source": [
    "scaler_X = StandardScaler()\n",
    "f_transformer = scaler_X.fit(X_train)\n",
    "\n",
    "X_train = f_transformer.transform(X_train)\n",
    "X_test = f_transformer.transform(X_test)"
   ]
  },
  {
   "cell_type": "code",
   "execution_count": 27,
   "id": "66222526-02a8-42af-b5b7-9a4db59dd43a",
   "metadata": {},
   "outputs": [
    {
     "data": {
      "text/plain": [
       "LogisticRegression(max_iter=2000)"
      ]
     },
     "execution_count": 27,
     "metadata": {},
     "output_type": "execute_result"
    }
   ],
   "source": [
    "logisticRegr = LogisticRegression(max_iter = 2000)\n",
    "logisticRegr.fit(X_train, y_train)"
   ]
  },
  {
   "cell_type": "code",
   "execution_count": 28,
   "id": "20fea0dc-f81e-40d0-adc8-f926ce753fbc",
   "metadata": {},
   "outputs": [
    {
     "name": "stdout",
     "output_type": "stream",
     "text": [
      "0.7720588235294118\n"
     ]
    }
   ],
   "source": [
    "score = logisticRegr.score(X_test, y_test)\n",
    "print(score)"
   ]
  },
  {
   "cell_type": "code",
   "execution_count": 33,
   "id": "7ef66902-e2ce-44b9-9532-db1eae886abd",
   "metadata": {},
   "outputs": [
    {
     "ename": "NameError",
     "evalue": "name 'ConfusionMatrix' is not defined",
     "output_type": "error",
     "traceback": [
      "\u001b[0;31m---------------------------------------------------------------------------\u001b[0m",
      "\u001b[0;31mNameError\u001b[0m                                 Traceback (most recent call last)",
      "\u001b[0;32m<ipython-input-33-e3e2ce827106>\u001b[0m in \u001b[0;36m<module>\u001b[0;34m\u001b[0m\n\u001b[1;32m      1\u001b[0m \u001b[0;32mfrom\u001b[0m \u001b[0msklearn\u001b[0m\u001b[0;34m.\u001b[0m\u001b[0mmetrics\u001b[0m \u001b[0;32mimport\u001b[0m \u001b[0mconfusion_matrix\u001b[0m\u001b[0;34m\u001b[0m\u001b[0;34m\u001b[0m\u001b[0m\n\u001b[1;32m      2\u001b[0m \u001b[0;34m\u001b[0m\u001b[0m\n\u001b[0;32m----> 3\u001b[0;31m \u001b[0msns\u001b[0m\u001b[0;34m.\u001b[0m\u001b[0mheatmap\u001b[0m\u001b[0;34m(\u001b[0m\u001b[0mConfusionMatrix\u001b[0m\u001b[0;34m,\u001b[0m \u001b[0mannot\u001b[0m\u001b[0;34m=\u001b[0m\u001b[0;32mTrue\u001b[0m\u001b[0;34m,\u001b[0m \u001b[0mfmt\u001b[0m\u001b[0;34m=\u001b[0m\u001b[0;34m\".3f\"\u001b[0m\u001b[0;34m,\u001b[0m \u001b[0mlinewidths\u001b[0m\u001b[0;34m=\u001b[0m\u001b[0;36m.5\u001b[0m\u001b[0;34m,\u001b[0m \u001b[0msquare\u001b[0m \u001b[0;34m=\u001b[0m \u001b[0;32mTrue\u001b[0m\u001b[0;34m,\u001b[0m \u001b[0mcmap\u001b[0m \u001b[0;34m=\u001b[0m \u001b[0;34m'Blues_r'\u001b[0m\u001b[0;34m)\u001b[0m\u001b[0;34m;\u001b[0m\u001b[0;34m\u001b[0m\u001b[0;34m\u001b[0m\u001b[0m\n\u001b[0m\u001b[1;32m      4\u001b[0m \u001b[0mplt\u001b[0m\u001b[0;34m.\u001b[0m\u001b[0mylabel\u001b[0m\u001b[0;34m(\u001b[0m\u001b[0;34m'Actual label'\u001b[0m\u001b[0;34m)\u001b[0m\u001b[0;34m;\u001b[0m\u001b[0;34m\u001b[0m\u001b[0;34m\u001b[0m\u001b[0m\n\u001b[1;32m      5\u001b[0m \u001b[0mplt\u001b[0m\u001b[0;34m.\u001b[0m\u001b[0mxlabel\u001b[0m\u001b[0;34m(\u001b[0m\u001b[0;34m'Predicted label'\u001b[0m\u001b[0;34m)\u001b[0m\u001b[0;34m;\u001b[0m\u001b[0;34m\u001b[0m\u001b[0;34m\u001b[0m\u001b[0m\n",
      "\u001b[0;31mNameError\u001b[0m: name 'ConfusionMatrix' is not defined"
     ]
    }
   ],
   "source": [
    "from sklearn.metrics import confusion_matrix\n",
    "\n",
    "sns.heatmap(ConfusionMatrix, annot=True, fmt=\".3f\", linewidths=.5, square = True, cmap = 'Blues_r');\n",
    "plt.ylabel('Actual label');\n",
    "plt.xlabel('Predicted label');\n",
    "all_sample_title = 'Accuracy Score: {0}'.format(score)\n",
    "plt.title(all_sample_title, size = 15);"
   ]
  },
  {
   "cell_type": "code",
   "execution_count": null,
   "id": "0b2d8364-2c55-4aa9-a9d8-71dc5ba20594",
   "metadata": {},
   "outputs": [],
   "source": []
  },
  {
   "cell_type": "code",
   "execution_count": 29,
   "id": "9dbd6d1c-1229-4348-98c4-f27861b57d5d",
   "metadata": {},
   "outputs": [
    {
     "data": {
      "text/plain": [
       "<BarContainer object of 10 artists>"
      ]
     },
     "execution_count": 29,
     "metadata": {},
     "output_type": "execute_result"
    },
    {
     "data": {
      "image/png": "[encoded data removed]",
      "text/plain": [
       "<Figure size 864x504 with 1 Axes>"
      ]
     },
     "metadata": {
      "needs_background": "light"
     },
     "output_type": "display_data"
    }
   ],
   "source": [
    "weights = np.ravel(logisticRegr.coef_)\n",
    "weights = weights*10\n",
    "regionsWights = regions[0]\n",
    "\n",
    "indices = (-weights).argsort()[:10]\n",
    "plt.figure(figsize = (12,7))\n",
    "\n",
    "plt.bar(regionsWights[indices] , weights[indices], width =0.5)\n",
    "\n"
   ]
  },
  {
   "cell_type": "code",
   "execution_count": 15,
   "id": "3e98fde4-584f-44e1-881a-94d550c46e22",
   "metadata": {},
   "outputs": [
    {
     "data": {
      "text/plain": [
       "array(['Visual2', 'Cingulo-Oper', 'Dorsal-atten', 'Visual2',\n",
       "       'Posterior-Mu', 'Auditory', 'Cingulo-Oper', 'Cingulo-Oper',\n",
       "       'Cingulo-Oper', 'Posterior-Mu'], dtype='<U12')"
      ]
     },
     "execution_count": 15,
     "metadata": {},
     "output_type": "execute_result"
    }
   ],
   "source": [
    "regions[1][indices]"
   ]
  },
  {
   "cell_type": "code",
   "execution_count": 31,
   "id": "0055c47e-4e12-4c3d-8fc2-05f9409b626e",
   "metadata": {},
   "outputs": [],
   "source": [
    "np.save('weightsLogisticRegressionRun2.npy' , weights)"
   ]
  },
  {
   "cell_type": "code",
   "execution_count": null,
   "id": "90a5a3d0-41f1-4f69-94eb-0a28fb95a5fd",
   "metadata": {},
   "outputs": [],
   "source": []
  }
 ],
 "metadata": {
  "kernelspec": {
   "display_name": "Python 3",
   "language": "python",
   "name": "python3"
  },
  "language_info": {
   "codemirror_mode": {
    "name": "ipython",
    "version": 3
   },
   "file_extension": ".py",
   "mimetype": "text/x-python",
   "name": "python",
   "nbconvert_exporter": "python",
   "pygments_lexer": "ipython3",
   "version": "3.7.10"
  }
 },
 "nbformat": 4,
 "nbformat_minor": 5
}
