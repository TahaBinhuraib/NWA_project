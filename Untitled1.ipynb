{
 "cells": [
  {
   "cell_type": "code",
   "execution_count": 49,
   "id": "eda04f80-4326-4ee0-8c65-41e5ed1bb547",
   "metadata": {},
   "outputs": [],
   "source": [
    "lag = 3\n",
    "X_timeSeries = [1,2,3,4]\n",
    "y = [5,6,7,8]\n",
    "\n",
    "Xs = []\n",
    "ys = []\n",
    "\n",
    "for i in range(len(X_timeSeries) - lag):\n",
    "    Xs.append(X_timeSeries[i:i+lag])\n",
    "    ys.append(X_timeSeries[i+lag:i+lag+1])\n",
    "\n",
    "# Xs = np.array(Xs)\n",
    "# ys = np.array(ys)\n",
    "\n"
   ]
  },
  {
   "cell_type": "code",
   "execution_count": 50,
   "id": "37da77ec-6bdb-4dcf-a47b-859eea53b10a",
   "metadata": {},
   "outputs": [],
   "source": [
    "y = [5,6,7,8]\n",
    "Xs1=[]\n",
    "ys1 = []\n",
    "for i in range(len(y) - lag):\n",
    "    Xs1.append(y[i:i+lag])\n",
    "    ys1.append(y[i+lag:i+lag+1])\n",
    "\n",
    "\n",
    "Xs.extend(Xs1)\n",
    "ys.extend(ys1)\n"
   ]
  },
  {
   "cell_type": "code",
   "execution_count": 56,
   "id": "38083e85-49d2-42b0-8ae4-e7c0f91dd031",
   "metadata": {},
   "outputs": [
    {
     "data": {
      "text/plain": [
       "[4, 5, 6]"
      ]
     },
     "execution_count": 56,
     "metadata": {},
     "output_type": "execute_result"
    }
   ],
   "source": [
    "a = [1,2,3]\n",
    "b = [4,5,6]\n",
    "z = []\n",
    "z.append(a)\n",
    "z.append(b)\n",
    "\n"
   ]
  },
  {
   "cell_type": "code",
   "execution_count": 74,
   "id": "0d7eeaef-5599-4b79-9188-b8da0456c9e9",
   "metadata": {},
   "outputs": [
    {
     "data": {
      "text/plain": [
       "[[1, 2], [4, 5]]"
      ]
     },
     "execution_count": 74,
     "metadata": {},
     "output_type": "execute_result"
    }
   ],
   "source": [
    "\n",
    "lag = 2\n",
    "Xs = []\n",
    "ys = []\n",
    "for i in range(len(z)):\n",
    "    Xs1=[]\n",
    "    ys1 = []\n",
    "    for k in range(len(z[i]) - lag):\n",
    "        Xs1.append(z[i][k:k+lag])\n",
    "        ys1.append(z[i][k+lag:k+lag+1])\n",
    "      \n",
    "    \n",
    "    Xs.extend(Xs1)\n",
    "    ys.extend(ys1)\n",
    "        \n",
    "        \n",
    "Xs   "
   ]
  },
  {
   "cell_type": "code",
   "execution_count": 76,
   "id": "9e5ba120-aa20-4419-93e4-de5b21bd8368",
   "metadata": {},
   "outputs": [
    {
     "data": {
      "text/plain": [
       "[[3], [6]]"
      ]
     },
     "execution_count": 76,
     "metadata": {},
     "output_type": "execute_result"
    }
   ],
   "source": [
    "ys"
   ]
  },
  {
   "cell_type": "code",
   "execution_count": 70,
   "id": "0cec5e1d-2308-4ff0-8e46-7c91202f9fb0",
   "metadata": {},
   "outputs": [
    {
     "data": {
      "text/plain": [
       "[[1, 2, 3], [4, 5, 6]]"
      ]
     },
     "execution_count": 70,
     "metadata": {},
     "output_type": "execute_result"
    }
   ],
   "source": [
    "z"
   ]
  },
  {
   "cell_type": "code",
   "execution_count": 15,
   "id": "9ed181f9-03a2-4bd6-b8ea-80cae7e36e86",
   "metadata": {},
   "outputs": [
    {
     "data": {
      "text/plain": [
       "[1, 2, 3, 4, [5, 6, 7, 8], 5, 6, 7, 8]"
      ]
     },
     "execution_count": 15,
     "metadata": {},
     "output_type": "execute_result"
    }
   ],
   "source": [
    "x+y"
   ]
  },
  {
   "cell_type": "code",
   "execution_count": null,
   "id": "257df9c8-8888-45e3-acd6-b34725e7b3ea",
   "metadata": {},
   "outputs": [],
   "source": []
  }
 ],
 "metadata": {
  "kernelspec": {
   "display_name": "Python 3",
   "language": "python",
   "name": "python3"
  },
  "language_info": {
   "codemirror_mode": {
    "name": "ipython",
    "version": 3
   },
   "file_extension": ".py",
   "mimetype": "text/x-python",
   "name": "python",
   "nbconvert_exporter": "python",
   "pygments_lexer": "ipython3",
   "version": "3.7.10"
  }
 },
 "nbformat": 4,
 "nbformat_minor": 5
}
