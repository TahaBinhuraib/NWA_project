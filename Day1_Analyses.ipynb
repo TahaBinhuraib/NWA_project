{
 "cells": [
  {
   "cell_type": "code",
   "execution_count": 35,
   "id": "ad9b93d3-b1bf-437b-9e5c-33b3cb55a919",
   "metadata": {},
   "outputs": [],
   "source": [
    "import numpy as np\n",
    "import pandas as pd\n",
    "import matplotlib.pyplot as plt\n",
    "from sklearn.model_selection import train_test_split\n",
    "from sklearn.linear_model import LogisticRegression\n",
    "from sklearn.preprocessing import StandardScaler\n",
    "from sklearn import metrics\n",
    "from sklearn.preprocessing import StandardScaler\n",
    "from sklearn.metrics import mean_absolute_error\n",
    "from sklearn.tree import DecisionTreeRegressor\n",
    "from sklearn.linear_model import LinearRegression\n",
    "import seaborn as sns\n",
    "from sklearn.metrics import confusion_matrix"
   ]
  },
  {
   "cell_type": "code",
   "execution_count": 36,
   "id": "9071a879-8f25-49c1-89c6-be8609d47076",
   "metadata": {},
   "outputs": [],
   "source": [
    "# The download cells will store the data in nested directories starting here:\n",
    "HCP_DIR = \"./hcp\"\n",
    "if not os.path.isdir(HCP_DIR):\n",
    "  os.mkdir(HCP_DIR)\n",
    "\n",
    "# The data shared for NMA projects is a subset of the full HCP dataset\n",
    "N_SUBJECTS = 339\n",
    "\n",
    "# The data have already been aggregated into ROIs from the Glasser parcellation\n",
    "N_PARCELS = 360\n",
    "\n",
    "# The acquisition parameters for all tasks were identical\n",
    "TR = 0.72  # Time resolution, in seconds\n",
    "\n",
    "# The parcels are matched across hemispheres with the same order\n",
    "HEMIS = [\"Right\", \"Left\"]\n",
    "\n",
    "# Each experiment was repeated twice in each subject\n",
    "N_RUNS = 2\n",
    "\n",
    "# There are 7 tasks. Each has a number of 'conditions'\n",
    "\n",
    "EXPERIMENTS = {\n",
    "    'MOTOR'      : {'runs': [5,6],   'cond':['lf','rf','lh','rh','t','cue']},\n",
    "    'WM'         : {'runs': [7,8],   'cond':['0bk_body','0bk_faces','0bk_places','0bk_tools','2bk_body','2bk_faces','2bk_places','2bk_tools']},\n",
    "    'EMOTION'    : {'runs': [9,10],  'cond':['fear','neut']},\n",
    "    'GAMBLING'   : {'runs': [11,12], 'cond':['loss','win']},\n",
    "    'LANGUAGE'   : {'runs': [13,14], 'cond':['math','story']},\n",
    "    'RELATIONAL' : {'runs': [15,16], 'cond':['match','relation']},\n",
    "    'SOCIAL'     : {'runs': [17,18], 'cond':['mental','rnd']}\n",
    "}\n",
    "\n",
    "# You may want to limit the subjects used during code development.\n",
    "# This will use all subjects:\n",
    "subjects = range(N_SUBJECTS)"
   ]
  },
  {
   "cell_type": "markdown",
   "id": "68064430-8486-4346-a9cc-11204a364795",
   "metadata": {},
   "source": [
    "### Download Data"
   ]
  },
  {
   "cell_type": "code",
   "execution_count": 37,
   "id": "f33d61ca-fe90-4972-9373-3acdd2906fc2",
   "metadata": {},
   "outputs": [],
   "source": [
    "\n",
    "# fname = \"hcp_task.tgz\"\n",
    "# if not os.path.exists(fname):\n",
    "#   !wget -qO $fname https://osf.io/s4h8j/download/\n",
    "#   !tar -xzf $fname -C $HCP_DIR --strip-components=1"
   ]
  },
  {
   "cell_type": "markdown",
   "id": "297c1cfe-0801-4b69-a50c-c3ea914b22b7",
   "metadata": {},
   "source": [
    "### Regions"
   ]
  },
  {
   "cell_type": "code",
   "execution_count": 38,
   "id": "73662b0b-9aee-4485-8eb9-c237284a41ea",
   "metadata": {},
   "outputs": [],
   "source": [
    "regions = np.load(f\"{HCP_DIR}/regions.npy\").T\n",
    "region_info = dict(\n",
    "    name=regions[0].tolist(),\n",
    "    network=regions[1],\n",
    "    hemi=['Right']*int(N_PARCELS/2) + ['Left']*int(N_PARCELS/2),\n",
    ")"
   ]
  },
  {
   "cell_type": "code",
   "execution_count": 39,
   "id": "86a21618-0827-4bba-b314-00789a8efd4f",
   "metadata": {},
   "outputs": [],
   "source": [
    "df_regions = pd.DataFrame(regions)"
   ]
  },
  {
   "cell_type": "code",
   "execution_count": 40,
   "id": "66bebd3a-8fb1-4f5b-9c05-fe6cc7e13e3c",
   "metadata": {},
   "outputs": [],
   "source": [
    "df_regions.to_csv('regions.csv')"
   ]
  },
  {
   "cell_type": "code",
   "execution_count": 41,
   "id": "5d1e379c-08b2-44bc-bd3f-b1172c8e4530",
   "metadata": {},
   "outputs": [],
   "source": [
    "def load_single_timeseries(subject, experiment, run, remove_mean=True):\n",
    "  \"\"\"Load timeseries data for a single subject and single run.\n",
    "  \n",
    "  Args:\n",
    "    subject (int):      0-based subject ID to load\n",
    "    experiment (str):   Name of experiment \n",
    "    run (int):          0-based run index, across all tasks\n",
    "    remove_mean (bool): If True, subtract the parcel-wise mean (typically the mean BOLD signal is not of interest)\n",
    "\n",
    "  Returns\n",
    "    ts (n_parcel x n_timepoint array): Array of BOLD data values\n",
    "\n",
    "  \"\"\"\n",
    "  bold_run  = EXPERIMENTS[experiment]['runs'][run]\n",
    "  bold_path = f\"{HCP_DIR}/subjects/{subject}/timeseries\"\n",
    "  bold_file = f\"bold{bold_run}_Atlas_MSMAll_Glasser360Cortical.npy\"\n",
    "  ts = np.load(f\"{bold_path}/{bold_file}\")\n",
    "  if remove_mean:\n",
    "    ts -= ts.mean(axis=1, keepdims=True)\n",
    "  return ts\n",
    "\n",
    "\n",
    "def load_evs(subject, experiment, run):\n",
    "  \"\"\"Load EVs (explanatory variables) data for one task experiment.\n",
    "\n",
    "  Args:\n",
    "    subject (int): 0-based subject ID to load\n",
    "    experiment (str) : Name of experiment\n",
    "\n",
    "  Returns\n",
    "    evs (list of lists): A list of frames associated with each condition\n",
    "\n",
    "  \"\"\"\n",
    "  frames_list = []\n",
    "  task_key = 'tfMRI_'+experiment+'_'+['RL','LR'][run]\n",
    "  for cond in EXPERIMENTS[experiment]['cond']:    \n",
    "    ev_file  = f\"{HCP_DIR}/subjects/{subject}/EVs/{task_key}/{cond}.txt\"\n",
    "    ev_array = np.loadtxt(ev_file, ndmin=2, unpack=True)\n",
    "    ev       = dict(zip([\"onset\", \"duration\", \"amplitude\"], ev_array))\n",
    "    # Determine when trial starts, rounded down\n",
    "    start = np.floor(ev[\"onset\"] / TR).astype(int)\n",
    "    # Use trial duration to determine how many frames to include for trial\n",
    "    duration = np.ceil(ev[\"duration\"] / TR).astype(int)\n",
    "    # Take the range of frames that correspond to this specific trial\n",
    "    frames = [s + np.arange(0, d) for s, d in zip(start, duration)]\n",
    "    frames_list.append(frames)\n",
    "\n",
    "  return frames_list\n",
    "\n"
   ]
  },
  {
   "cell_type": "code",
   "execution_count": 42,
   "id": "4fc91308-4548-4de0-9781-165c0637f954",
   "metadata": {},
   "outputs": [
    {
     "data": {
      "text/plain": [
       "[[1, 2],\n",
       " [2, 3],\n",
       " [3, 4],\n",
       " [4, 5],\n",
       " [5, 6],\n",
       " [6, 7],\n",
       " [7, 8],\n",
       " [8, 9],\n",
       " [9, 10],\n",
       " [10, 11],\n",
       " [11, 12],\n",
       " [12, 13],\n",
       " [13, 14],\n",
       " [14, 15]]"
      ]
     },
     "execution_count": 42,
     "metadata": {},
     "output_type": "execute_result"
    }
   ],
   "source": [
    "arr = [1,2,3,4,5,6,7,8,9,10,11,12,13,14,15,16]\n",
    "lag = 2\n",
    "xs = []\n",
    "ys=[]\n",
    "for i in range(len(arr) - lag):\n",
    "    xs.append(arr[i:i+lag])\n",
    "    ys.append(arr[i+lag:i+lag+1])\n",
    "xs"
   ]
  },
  {
   "cell_type": "code",
   "execution_count": 43,
   "id": "e35dc6c1-136a-4458-b1c6-4de18f4cefda",
   "metadata": {},
   "outputs": [
    {
     "data": {
      "text/plain": [
       "[[3], [4], [5], [6], [7], [8], [9], [10], [11], [12], [13], [14], [15], [16]]"
      ]
     },
     "execution_count": 43,
     "metadata": {},
     "output_type": "execute_result"
    }
   ],
   "source": [
    "ys"
   ]
  },
  {
   "cell_type": "code",
   "execution_count": 44,
   "id": "1777de60-cb0d-4177-b8f0-f39bd6ff2f1b",
   "metadata": {},
   "outputs": [
    {
     "data": {
      "text/plain": [
       "(14, 2)"
      ]
     },
     "execution_count": 44,
     "metadata": {},
     "output_type": "execute_result"
    }
   ],
   "source": [
    "arrayx = np.array(xs)\n",
    "arrayx.shape"
   ]
  },
  {
   "cell_type": "code",
   "execution_count": 45,
   "id": "c3b8f901-ac1e-4e46-acbf-085a1d59a87c",
   "metadata": {},
   "outputs": [
    {
     "data": {
      "text/plain": [
       "array([133, 134, 135, 136, 137, 138, 139, 140, 141, 142, 143, 144, 145,\n",
       "       146, 147, 148, 149, 150, 151, 152, 153, 154, 155, 156, 157, 158,\n",
       "       159, 160, 161, 162, 163, 164, 165, 166, 167, 168, 169, 170, 171])"
      ]
     },
     "execution_count": 45,
     "metadata": {},
     "output_type": "execute_result"
    }
   ],
   "source": [
    "my_exp  = 'GAMBLING'\n",
    "my_subj = 0\n",
    "my_run  = 1\n",
    "\n",
    "evs = load_evs(subject=my_subj, experiment=my_exp,run=my_run)\n",
    "evs[0][1]"
   ]
  },
  {
   "cell_type": "code",
   "execution_count": 46,
   "id": "378e51bf-7973-4311-be34-8d4a3e533cd8",
   "metadata": {},
   "outputs": [],
   "source": [
    "def average_frames_win( data , evs, experiment, cond):    \n",
    "            idx = EXPERIMENTS[experiment]['cond'].index(cond)\n",
    "            ts_i = np.mean(np.concatenate([np.mean(data[:,evs[idx][i]],axis=1,keepdims=True) for i in range(len(evs[idx]))],axis=-1),axis=1)\n",
    "            return ts_i"
   ]
  },
  {
   "cell_type": "code",
   "execution_count": 47,
   "id": "fab49973-c9a3-4c36-95ce-9f6ad77cc53d",
   "metadata": {},
   "outputs": [],
   "source": [
    "my_exp  = 'GAMBLING'\n",
    "my_subj = 0\n",
    "my_run  = 1\n",
    "evs = load_evs(subject=my_subj, experiment=my_exp,run=my_run)\n",
    "\n",
    "def makeWinDataForAllSubjects():\n",
    "    NumberofSubjects = 339\n",
    "    subjects = range(NumberofSubjects)\n",
    "    tsAll = np.array([])\n",
    "    conditionWin = 'win'\n",
    "    my_exp  = 'GAMBLING'\n",
    "    my_subj = 0\n",
    "    my_run  = 1\n",
    "    \n",
    "        \n",
    "    for i in subjects:\n",
    "        data = load_single_timeseries(subject=i, experiment=my_exp,run=my_run,remove_mean=True)\n",
    "        evs = load_evs(subject=i, experiment=my_exp,run=my_run)\n",
    "        tsi = average_frames_win(data, evs, my_exp , cond=conditionWin)\n",
    "        tsAll = np.concatenate((tsAll, tsi))\n",
    "    return tsAll\n",
    "\n",
    "        \n",
    "tsWinData = makeWinDataForAllSubjects()"
   ]
  },
  {
   "cell_type": "code",
   "execution_count": 48,
   "id": "43e6d78a-869b-4269-b34e-359325ca0287",
   "metadata": {},
   "outputs": [
    {
     "data": {
      "text/plain": [
       "(339, 360)"
      ]
     },
     "execution_count": 48,
     "metadata": {},
     "output_type": "execute_result"
    }
   ],
   "source": [
    "tsWinData = tsWinData.reshape(339,-1)\n",
    "tsWinData.shape"
   ]
  },
  {
   "cell_type": "code",
   "execution_count": 49,
   "id": "00c3515f-e938-44ea-8407-7ce0ee43fe0d",
   "metadata": {},
   "outputs": [],
   "source": [
    "def makelossDataForAllSubjects():\n",
    "    NumberofSubjects = 339\n",
    "    subjects = range(NumberofSubjects)\n",
    "    tsAll = np.array([])\n",
    "    conditionloss = 'loss'\n",
    "    my_exp  = 'GAMBLING'\n",
    "    my_subj = 0\n",
    "    my_run  = 1\n",
    "    \n",
    "        \n",
    "    for i in subjects:\n",
    "        data = load_single_timeseries(subject=i, experiment=my_exp,run=my_run,remove_mean=True)\n",
    "        evs = load_evs(subject=i, experiment=my_exp,run=my_run)\n",
    "        tsi = average_frames_win(data, evs, my_exp , cond=conditionloss)\n",
    "        tsAll = np.concatenate((tsAll, tsi))\n",
    "    return tsAll\n",
    "\n",
    "        \n",
    "tslossData = makelossDataForAllSubjects()"
   ]
  },
  {
   "cell_type": "code",
   "execution_count": 50,
   "id": "47e75a73-5c0f-4e29-a6c4-8360e5499445",
   "metadata": {},
   "outputs": [
    {
     "data": {
      "text/plain": [
       "(339, 360)"
      ]
     },
     "execution_count": 50,
     "metadata": {},
     "output_type": "execute_result"
    }
   ],
   "source": [
    "tslossData = tslossData.reshape(339,-1)\n",
    "tslossData.shape"
   ]
  },
  {
   "cell_type": "code",
   "execution_count": 51,
   "id": "10fc0580-fd78-4e98-9db9-aa977c4ed141",
   "metadata": {},
   "outputs": [],
   "source": [
    "#win = 1\n",
    "# loss = 0\n",
    "NumberofSubjects = 339\n",
    "#make array of output values Y.\n",
    "one= np.ones(NumberofSubjects)\n",
    "zero = np.zeros(NumberofSubjects)"
   ]
  },
  {
   "cell_type": "code",
   "execution_count": 52,
   "id": "20a18770-82a5-4f50-b9e7-57ca9d869eb5",
   "metadata": {},
   "outputs": [
    {
     "data": {
      "text/plain": [
       "True"
      ]
     },
     "execution_count": 52,
     "metadata": {},
     "output_type": "execute_result"
    }
   ],
   "source": [
    "y = np.concatenate((one,zero))\n",
    "len(y) == 339*2"
   ]
  },
  {
   "cell_type": "code",
   "execution_count": 53,
   "id": "18346f27-5448-4379-a39a-2ab4f02a9d14",
   "metadata": {},
   "outputs": [
    {
     "data": {
      "text/plain": [
       "(678, 360)"
      ]
     },
     "execution_count": 53,
     "metadata": {},
     "output_type": "execute_result"
    }
   ],
   "source": [
    "X = np.concatenate((tsWinData, tslossData))\n",
    "X.shape"
   ]
  },
  {
   "cell_type": "code",
   "execution_count": 54,
   "id": "c073dfc0-b8ee-40a0-abb1-036b6025bf0f",
   "metadata": {},
   "outputs": [
    {
     "name": "stdout",
     "output_type": "stream",
     "text": [
      "X_train shape is (508, 360)\n",
      "X_test shape is (170, 360) \n",
      "y_train shape is (508,) \n",
      "y_test shape is (170,)\n"
     ]
    }
   ],
   "source": [
    "X_train, X_test, y_train, y_test = train_test_split(X, y, test_size=0.25, random_state=0)\n",
    "print(f'X_train shape is {X_train.shape}\\nX_test shape is {X_test.shape} \\ny_train shape is {y_train.shape} \\ny_test shape is {y_test.shape}')"
   ]
  },
  {
   "cell_type": "code",
   "execution_count": 55,
   "id": "dd443e43-7043-495e-9ced-f8214dcf855c",
   "metadata": {},
   "outputs": [],
   "source": [
    "scaler_X = StandardScaler()\n",
    "f_transformer = scaler_X.fit(X_train)\n",
    "\n",
    "X_train = f_transformer.transform(X_train)\n",
    "X_test = f_transformer.transform(X_test)\n"
   ]
  },
  {
   "cell_type": "code",
   "execution_count": 56,
   "id": "41f1c469-b0f5-4e68-bc48-d842db024791",
   "metadata": {},
   "outputs": [
    {
     "data": {
      "text/plain": [
       "LogisticRegression()"
      ]
     },
     "execution_count": 56,
     "metadata": {},
     "output_type": "execute_result"
    }
   ],
   "source": [
    "logisticRegr = LogisticRegression()\n",
    "logisticRegr.fit(X_train, y_train)"
   ]
  },
  {
   "cell_type": "code",
   "execution_count": 61,
   "id": "8e7f7967-0247-4409-b287-5627fe95e9a2",
   "metadata": {},
   "outputs": [
    {
     "name": "stdout",
     "output_type": "stream",
     "text": [
      "0.9352941176470588\n"
     ]
    }
   ],
   "source": [
    "score = logisticRegr.score(X_test, y_test)\n",
    "print(score)"
   ]
  },
  {
   "cell_type": "code",
   "execution_count": 62,
   "id": "277160c6-2fb9-496f-bb6e-1e53366f5687",
   "metadata": {},
   "outputs": [
    {
     "name": "stdout",
     "output_type": "stream",
     "text": [
      "[[84  9]\n",
      " [ 2 75]]\n"
     ]
    }
   ],
   "source": [
    "predictions = logisticRegr.predict(X_test)\n",
    "ConfusionMatrix = metrics.confusion_matrix(y_test, predictions)\n",
    "print(ConfusionMatrix)"
   ]
  },
  {
   "cell_type": "code",
   "execution_count": 63,
   "id": "59249446-cdef-400b-a016-868965b38e8d",
   "metadata": {},
   "outputs": [
    {
     "data": {
      "image/png": "[encoded data removed]",
      "text/plain": [
       "<Figure size 432x288 with 2 Axes>"
      ]
     },
     "metadata": {
      "needs_background": "light"
     },
     "output_type": "display_data"
    }
   ],
   "source": [
    "sns.heatmap(ConfusionMatrix, annot=True, fmt=\".3f\", linewidths=.5, square = True, cmap = 'Blues_r');\n",
    "plt.ylabel('Actual label');\n",
    "plt.xlabel('Predicted label');\n",
    "all_sample_title = 'Accuracy Score: {0}'.format(score)\n",
    "plt.title(all_sample_title, size = 15);"
   ]
  },
  {
   "cell_type": "code",
   "execution_count": 70,
   "id": "9f9db639-5a2e-4cb5-bb0a-737fea3d9a48",
   "metadata": {},
   "outputs": [
    {
     "data": {
      "image/png": "[encoded data removed]",
      "text/plain": [
       "<Figure size 432x288 with 1 Axes>"
      ]
     },
     "metadata": {
      "needs_background": "light"
     },
     "output_type": "display_data"
    }
   ],
   "source": [
    "from sklearn import metrics\n",
    "metrics.plot_roc_curve(logisticRegr , X_test, y_test)\n",
    "plt.show()"
   ]
  },
  {
   "cell_type": "code",
   "execution_count": 71,
   "id": "5bb2874c-2480-40a8-bfcb-2f9f74396e25",
   "metadata": {},
   "outputs": [
    {
     "data": {
      "text/plain": [
       "[[1, 2],\n",
       " [2, 3],\n",
       " [3, 4],\n",
       " [4, 5],\n",
       " [5, 6],\n",
       " [6, 7],\n",
       " [7, 8],\n",
       " [8, 9],\n",
       " [9, 10],\n",
       " [10, 11],\n",
       " [11, 12],\n",
       " [12, 13],\n",
       " [13, 14],\n",
       " [14, 15]]"
      ]
     },
     "execution_count": 71,
     "metadata": {},
     "output_type": "execute_result"
    }
   ],
   "source": [
    "#example of turning data to sequential.\n",
    "arr = [1,2,3,4,5,6,7,8,9,10,11,12,13,14,15,16]\n",
    "lag = 2\n",
    "xs = []\n",
    "ys=[]\n",
    "for i in range(len(arr) - lag):\n",
    "    xs.append(arr[i:i+lag])\n",
    "    ys.append(arr[i+lag:i+lag+1])\n",
    "xs"
   ]
  },
  {
   "cell_type": "code",
   "execution_count": 72,
   "id": "a6223d68-a1ad-4e3b-bd48-7e4821bacde0",
   "metadata": {},
   "outputs": [
    {
     "data": {
      "text/plain": [
       "(678, 360)"
      ]
     },
     "execution_count": 72,
     "metadata": {},
     "output_type": "execute_result"
    }
   ],
   "source": [
    "X.shape"
   ]
  },
  {
   "cell_type": "code",
   "execution_count": 73,
   "id": "d112a118-2267-4bcd-b1c8-0f066c3d30ad",
   "metadata": {},
   "outputs": [],
   "source": [
    "array_length = 678*360"
   ]
  },
  {
   "cell_type": "code",
   "execution_count": 74,
   "id": "a050c4ec-4259-4836-8057-3e4da93ec6f2",
   "metadata": {},
   "outputs": [
    {
     "data": {
      "text/plain": [
       "True"
      ]
     },
     "execution_count": 74,
     "metadata": {},
     "output_type": "execute_result"
    }
   ],
   "source": [
    "X_timeSeries = X.reshape(array_length)\n",
    "X_timeSeries.shape[0] == array_length"
   ]
  },
  {
   "cell_type": "code",
   "execution_count": 75,
   "id": "fc6b40c8-9d5d-420c-bdc1-b912562a96b3",
   "metadata": {},
   "outputs": [
    {
     "data": {
      "text/plain": [
       "[<matplotlib.lines.Line2D at 0x7fac04692b90>]"
      ]
     },
     "execution_count": 75,
     "metadata": {},
     "output_type": "execute_result"
    },
    {
     "data": {
      "image/png": "[encoded data removed]",
      "text/plain": [
       "<Figure size 432x288 with 1 Axes>"
      ]
     },
     "metadata": {
      "needs_background": "light"
     },
     "output_type": "display_data"
    }
   ],
   "source": [
    "plt.plot(X_timeSeries[:100])"
   ]
  },
  {
   "cell_type": "code",
   "execution_count": 76,
   "id": "ba905093-6b55-40d6-ad85-4871225f6f6e",
   "metadata": {},
   "outputs": [
    {
     "name": "stdout",
     "output_type": "stream",
     "text": [
      "Xs shape (244056, 24)\n",
      "Ys shape (244056, 1)\n"
     ]
    }
   ],
   "source": [
    "lag = 24\n",
    "\n",
    "Xs = []\n",
    "ys = []\n",
    "\n",
    "for i in range(len(X_timeSeries) - lag):\n",
    "    Xs.append(X_timeSeries[i:i+lag])\n",
    "    ys.append(X_timeSeries[i+lag:i+lag+1])\n",
    "\n",
    "Xs = np.array(Xs)\n",
    "ys = np.array(ys)\n",
    "\n",
    "print(f'Xs shape {Xs.shape}\\nYs shape {ys.shape}')"
   ]
  },
  {
   "cell_type": "code",
   "execution_count": 98,
   "id": "7d904c50-7790-4d75-9f16-33518bea0c5e",
   "metadata": {},
   "outputs": [
    {
     "name": "stdout",
     "output_type": "stream",
     "text": [
      "X_train shape is (183042, 24)\n",
      "X_test shape is (61014, 24) \n",
      "y_train shape is (183042, 1) \n",
      "y_test shape is (61014, 1)\n"
     ]
    }
   ],
   "source": [
    "X_train, X_test, y_train, y_test = train_test_split(Xs, ys, test_size=0.25, random_state=0)\n",
    "print(f'X_train shape is {X_train.shape}\\nX_test shape is {X_test.shape} \\ny_train shape is {y_train.shape} \\ny_test shape is {y_test.shape}')"
   ]
  },
  {
   "cell_type": "code",
   "execution_count": 99,
   "id": "00d19065-f227-4137-bf81-3b49a8ef4d10",
   "metadata": {},
   "outputs": [],
   "source": [
    "def get_models(models=dict()):\n",
    "    models['DecisionTreeRegressor'] = DecisionTreeRegressor()\n",
    "    models['LinearRegression'] = LinearRegression()\n",
    "    return models"
   ]
  },
  {
   "cell_type": "code",
   "execution_count": 100,
   "id": "71e8522e-57bb-43b8-be56-0f314ad406b4",
   "metadata": {},
   "outputs": [],
   "source": [
    "scaler_X = StandardScaler()\n",
    "scaler_y = StandardScaler()\n",
    "\n",
    "feature_transformer = scaler_X.fit(X_train)\n",
    "target_trasformer = scaler_y.fit(y_train)\n",
    "\n",
    "\n",
    "X_train = feature_transformer.transform(X_train)\n",
    "X_test = feature_transformer.transform(X_test)\n",
    "y_train = target_trasformer.transform(y_train)\n",
    "y_test = target_trasformer.transform(y_test)\n"
   ]
  },
  {
   "cell_type": "code",
   "execution_count": 101,
   "id": "3a8280ba-c7a9-4719-a9a1-6875f70a99f5",
   "metadata": {},
   "outputs": [],
   "source": [
    "def evaluate_models(models, Xtrain, yTrain, Xtest , yTest):\n",
    "    mae = dict()\n",
    "    for name, model in models.items():\n",
    "        regressor = model\n",
    "        regressor.fit(Xtrain, yTrain)\n",
    "        y_pred = regressor.predict(Xtest)\n",
    "        y_pred = target_trasformer.inverse_transform(y_pred)\n",
    "        y_real = target_trasformer.inverse_transform(yTest)\n",
    "\n",
    "        plt.plot(y_real[50:100],marker='.', label=\"true\")\n",
    "        plt.plot(y_pred[50:100],'r', label=\"prediction\")\n",
    "        plt.title(name)\n",
    "        plt.legend()\n",
    "        plt.show()\n",
    "        maeModel = mean_absolute_error(y_real,y_pred)\n",
    "        mae[f'{name}'] = (maeModel)\n",
    "    return mae"
   ]
  },
  {
   "cell_type": "code",
   "execution_count": 102,
   "id": "8ce432fd-2345-4dab-907b-908b907b6f1a",
   "metadata": {},
   "outputs": [
    {
     "data": {
      "image/png": "[encoded data removed]",
      "text/plain": [
       "<Figure size 432x288 with 1 Axes>"
      ]
     },
     "metadata": {
      "needs_background": "light"
     },
     "output_type": "display_data"
    },
    {
     "data": {
      "image/png": "[encoded data removed]",
      "text/plain": [
       "<Figure size 432x288 with 1 Axes>"
      ]
     },
     "metadata": {
      "needs_background": "light"
     },
     "output_type": "display_data"
    },
    {
     "data": {
      "text/plain": [
       "{'DecisionTreeRegressor': 16.755785544290685,\n",
       " 'LinearRegression': 11.562531543736275}"
      ]
     },
     "execution_count": 102,
     "metadata": {},
     "output_type": "execute_result"
    }
   ],
   "source": [
    "models = get_models()\n",
    "evaluate_models(models, X_train, y_train,X_test,y_test)"
   ]
  },
  {
   "cell_type": "code",
   "execution_count": null,
   "id": "68fab6ee-ed19-4401-84d9-e38084dd2656",
   "metadata": {},
   "outputs": [],
   "source": []
  },
  {
   "cell_type": "code",
   "execution_count": null,
   "id": "81d1966e-9844-4f05-986d-0b670658a8a7",
   "metadata": {},
   "outputs": [],
   "source": []
  }
 ],
 "metadata": {
  "kernelspec": {
   "display_name": "Python 3",
   "language": "python",
   "name": "python3"
  },
  "language_info": {
   "codemirror_mode": {
    "name": "ipython",
    "version": 3
   },
   "file_extension": ".py",
   "mimetype": "text/x-python",
   "name": "python",
   "nbconvert_exporter": "python",
   "pygments_lexer": "ipython3",
   "version": "3.7.10"
  }
 },
 "nbformat": 4,
 "nbformat_minor": 5
}
