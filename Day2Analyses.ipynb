{
 "cells": [
  {
   "cell_type": "code",
   "execution_count": 1,
   "id": "6089a361-338c-4bb8-a24e-d6a97323fa1d",
   "metadata": {},
   "outputs": [],
   "source": [
    "import numpy as np\n",
    "import pandas as pd\n",
    "import matplotlib.pyplot as plt\n",
    "from sklearn.model_selection import train_test_split\n",
    "from sklearn.linear_model import LogisticRegression\n",
    "from sklearn.preprocessing import StandardScaler\n",
    "from sklearn import metrics\n",
    "from sklearn.preprocessing import StandardScaler\n",
    "from sklearn.metrics import mean_absolute_error\n",
    "from sklearn.tree import DecisionTreeRegressor\n",
    "from sklearn.linear_model import LinearRegression\n",
    "import seaborn as sns\n",
    "from sklearn.metrics import confusion_matrix\n",
    "import os\n",
    "# The download cells will store the data in nested directories starting here:\n",
    "HCP_DIR = \"./hcp\"\n",
    "if not os.path.isdir(HCP_DIR):\n",
    "  os.mkdir(HCP_DIR)\n",
    "\n",
    "# The data shared for NMA projects is a subset of the full HCP dataset\n",
    "N_SUBJECTS = 339\n",
    "\n",
    "# The data have already been aggregated into ROIs from the Glasser parcellation\n",
    "N_PARCELS = 360\n",
    "\n",
    "# The acquisition parameters for all tasks were identical\n",
    "TR = 0.72  # Time resolution, in seconds\n",
    "\n",
    "# The parcels are matched across hemispheres with the same order\n",
    "HEMIS = [\"Right\", \"Left\"]\n",
    "\n",
    "# Each experiment was repeated twice in each subject\n",
    "N_RUNS = 2\n",
    "\n",
    "# There are 7 tasks. Each has a number of 'conditions'\n",
    "\n",
    "EXPERIMENTS = {\n",
    "    'MOTOR'      : {'runs': [5,6],   'cond':['lf','rf','lh','rh','t','cue']},\n",
    "    'WM'         : {'runs': [7,8],   'cond':['0bk_body','0bk_faces','0bk_places','0bk_tools','2bk_body','2bk_faces','2bk_places','2bk_tools']},\n",
    "    'EMOTION'    : {'runs': [9,10],  'cond':['fear','neut']},\n",
    "    'GAMBLING'   : {'runs': [11,12], 'cond':['loss','win']},\n",
    "    'LANGUAGE'   : {'runs': [13,14], 'cond':['math','story']},\n",
    "    'RELATIONAL' : {'runs': [15,16], 'cond':['match','relation']},\n",
    "    'SOCIAL'     : {'runs': [17,18], 'cond':['mental','rnd']}\n",
    "}\n",
    "\n",
    "# You may want to limit the subjects used during code development.\n",
    "# This will use all subjects:\n",
    "subjects = range(N_SUBJECTS)\n",
    "\n",
    "regions = np.load(f\"{HCP_DIR}/regions.npy\").T\n",
    "region_info = dict(\n",
    "    name=regions[0].tolist(),\n",
    "    network=regions[1],\n",
    "    hemi=['Right']*int(N_PARCELS/2) + ['Left']*int(N_PARCELS/2),\n",
    ")\n",
    "def load_single_timeseries(subject, experiment, run, remove_mean=True):\n",
    "  \"\"\"Load timeseries data for a single subject and single run.\n",
    "  \n",
    "  Args:\n",
    "    subject (int):      0-based subject ID to load\n",
    "    experiment (str):   Name of experiment \n",
    "    run (int):          0-based run index, across all tasks\n",
    "    remove_mean (bool): If True, subtract the parcel-wise mean (typically the mean BOLD signal is not of interest)\n",
    "\n",
    "  Returns\n",
    "    ts (n_parcel x n_timepoint array): Array of BOLD data values\n",
    "\n",
    "  \"\"\"\n",
    "  bold_run  = EXPERIMENTS[experiment]['runs'][run]\n",
    "  bold_path = f\"{HCP_DIR}/subjects/{subject}/timeseries\"\n",
    "  bold_file = f\"bold{bold_run}_Atlas_MSMAll_Glasser360Cortical.npy\"\n",
    "  ts = np.load(f\"{bold_path}/{bold_file}\")\n",
    "  if remove_mean:\n",
    "    ts -= ts.mean(axis=1, keepdims=True)\n",
    "  return ts\n",
    "\n",
    "\n",
    "def load_evs(subject, experiment, run):\n",
    "  \"\"\"Load EVs (explanatory variables) data for one task experiment.\n",
    "\n",
    "  Args:\n",
    "    subject (int): 0-based subject ID to load\n",
    "    experiment (str) : Name of experiment\n",
    "\n",
    "  Returns\n",
    "    evs (list of lists): A list of frames associated with each condition\n",
    "\n",
    "  \"\"\"\n",
    "  frames_list = []\n",
    "  task_key = 'tfMRI_'+experiment+'_'+['RL','LR'][run]\n",
    "  for cond in EXPERIMENTS[experiment]['cond']:    \n",
    "    ev_file  = f\"{HCP_DIR}/subjects/{subject}/EVs/{task_key}/{cond}.txt\"\n",
    "    ev_array = np.loadtxt(ev_file, ndmin=2, unpack=True)\n",
    "    ev       = dict(zip([\"onset\", \"duration\", \"amplitude\"], ev_array))\n",
    "    # Determine when trial starts, rounded down\n",
    "    start = np.floor(ev[\"onset\"] / TR).astype(int)\n",
    "    # Use trial duration to determine how many frames to include for trial\n",
    "    duration = np.ceil(ev[\"duration\"] / TR).astype(int)\n",
    "    # Take the range of frames that correspond to this specific trial\n",
    "    frames = [s + np.arange(0, d) for s, d in zip(start, duration)]\n",
    "    frames_list.append(frames)\n",
    "\n",
    "  return frames_list\n",
    "\n"
   ]
  },
  {
   "cell_type": "code",
   "execution_count": 2,
   "id": "146b0928-b351-43b8-8462-06b7fa7f2bee",
   "metadata": {},
   "outputs": [
    {
     "data": {
      "text/plain": [
       "(339, 360)"
      ]
     },
     "execution_count": 2,
     "metadata": {},
     "output_type": "execute_result"
    }
   ],
   "source": [
    "def average_frames_win( data , evs, experiment, cond):    \n",
    "            idx = EXPERIMENTS[experiment]['cond'].index(cond)\n",
    "            ts_i = np.mean(np.concatenate([np.mean(data[:,evs[idx][i]],axis=1,keepdims=True) for i in range(len(evs[idx]))],axis=-1),axis=1)\n",
    "            return ts_i\n",
    "\n",
    "        \n",
    "my_exp  = 'GAMBLING'\n",
    "my_run  = 1\n",
    "def makeWinDataForAllSubjects():\n",
    "    NumberofSubjects = 339\n",
    "    subjects = range(NumberofSubjects)\n",
    "    tsAll = np.array([])\n",
    "    conditionWin = 'win'\n",
    "    my_exp  = 'GAMBLING'\n",
    "    my_subj = 0\n",
    "    my_run  = 1\n",
    "    \n",
    "        \n",
    "    for i in subjects:\n",
    "        data = load_single_timeseries(subject=i, experiment=my_exp,run=my_run,remove_mean=True)\n",
    "        evs = load_evs(subject=i, experiment=my_exp,run=my_run)\n",
    "        tsi = average_frames_win(data, evs, my_exp , cond=conditionWin)\n",
    "        tsAll = np.concatenate((tsAll, tsi))\n",
    "    return tsAll\n",
    "\n",
    "        \n",
    "tsWinData = makeWinDataForAllSubjects()\n",
    "tsWinData = tsWinData.reshape(339,-1)\n",
    "tsWinData.shape"
   ]
  },
  {
   "cell_type": "code",
   "execution_count": 3,
   "id": "1b063dd7-2ee9-4fcb-a123-e4ff4e748945",
   "metadata": {},
   "outputs": [
    {
     "data": {
      "text/plain": [
       "(339, 360)"
      ]
     },
     "execution_count": 3,
     "metadata": {},
     "output_type": "execute_result"
    }
   ],
   "source": [
    "def makelossDataForAllSubjects():\n",
    "    NumberofSubjects = 339\n",
    "    subjects = range(NumberofSubjects)\n",
    "    tsAll = np.array([])\n",
    "    conditionloss = 'loss'\n",
    "    my_exp  = 'GAMBLING'\n",
    "    my_subj = 0\n",
    "    my_run  = 1\n",
    "    \n",
    "        \n",
    "    for i in subjects:\n",
    "        data = load_single_timeseries(subject=i, experiment=my_exp,run=my_run,remove_mean=True)\n",
    "        evs = load_evs(subject=i, experiment=my_exp,run=my_run)\n",
    "        tsi = average_frames_win(data, evs, my_exp , cond=conditionloss)\n",
    "        tsAll = np.concatenate((tsAll, tsi))\n",
    "    return tsAll\n",
    "\n",
    "        \n",
    "tslossData = makelossDataForAllSubjects()\n",
    "tslossData = tslossData.reshape(339,-1)\n",
    "tslossData.shape\n",
    "\n"
   ]
  },
  {
   "cell_type": "code",
   "execution_count": 4,
   "id": "257f1b95-582f-4d38-9c11-a624560efcc2",
   "metadata": {},
   "outputs": [],
   "source": [
    "#win = 1\n",
    "#loss = 0\n",
    "NumberofSubjects = 339\n",
    "#make array of output values Y.\n",
    "one = np.ones(NumberofSubjects)\n",
    "zero = np.zeros(NumberofSubjects)"
   ]
  },
  {
   "cell_type": "code",
   "execution_count": null,
   "id": "10012349-3164-45eb-aa39-49b3b32bfb28",
   "metadata": {},
   "outputs": [],
   "source": []
  },
  {
   "cell_type": "code",
   "execution_count": null,
   "id": "65608d25-d897-43cb-aba6-f2ca3ccd19b8",
   "metadata": {},
   "outputs": [],
   "source": []
  },
  {
   "cell_type": "code",
   "execution_count": 5,
   "id": "beaf7657-0a73-4be6-8813-c91f1eb0a9a4",
   "metadata": {},
   "outputs": [],
   "source": [
    "import math\n",
    "subjectsTrainforWins = math.floor(NumberofSubjects*0.8) \n",
    "subjectsTrainforLoss = subjectsTrainforWins\n"
   ]
  },
  {
   "cell_type": "code",
   "execution_count": 6,
   "id": "e48882d3-4144-41f8-8cd2-ee326638882a",
   "metadata": {},
   "outputs": [
    {
     "name": "stdout",
     "output_type": "stream",
     "text": [
      "X_train shape is (542, 360)\n",
      "X_test shape is (136, 360) \n",
      "y_train shape is (542,) \n",
      "y_test shape is (136,)\n"
     ]
    }
   ],
   "source": [
    "X_trainWins = tsWinData[:subjectsTrainforWins]\n",
    "y_trainWins = one[:subjectsTrainforWins]\n",
    "\n",
    "X_testWins = tsWinData[subjectsTrainforWins:]\n",
    "y_testWins = one[subjectsTrainforWins:]\n",
    "\n",
    "\n",
    "X_trainLoss = tslossData[:subjectsTrainforLoss]\n",
    "y_trainLoss = zero[:subjectsTrainforLoss]\n",
    "\n",
    "X_testLoss = tslossData[subjectsTrainforLoss:]\n",
    "y_testLoss = zero[subjectsTrainforLoss:]\n",
    "\n",
    "\n",
    "X_train = np.concatenate((X_trainWins,X_trainLoss))\n",
    "\n",
    "y_train = np.concatenate((y_trainWins,y_trainLoss))\n",
    "\n",
    "X_test = np.concatenate((X_testWins,X_testLoss))\n",
    "y_test = np.concatenate((y_testWins,y_testLoss))\n",
    "\n",
    "print(f'X_train shape is {X_train.shape}\\nX_test shape is {X_test.shape} \\ny_train shape is {y_train.shape} \\ny_test shape is {y_test.shape}')"
   ]
  },
  {
   "cell_type": "code",
   "execution_count": 7,
   "id": "f36bf690-c2ba-4aac-8bb5-0ca82e209c4e",
   "metadata": {},
   "outputs": [],
   "source": [
    "scaler_X = StandardScaler()\n",
    "f_transformer = scaler_X.fit(X_train)\n",
    "\n",
    "X_train = f_transformer.transform(X_train)\n",
    "X_test = f_transformer.transform(X_test)"
   ]
  },
  {
   "cell_type": "code",
   "execution_count": 8,
   "id": "60937cd3-62e7-4c0d-9658-54bcacf08343",
   "metadata": {},
   "outputs": [
    {
     "data": {
      "text/plain": [
       "LogisticRegression()"
      ]
     },
     "execution_count": 8,
     "metadata": {},
     "output_type": "execute_result"
    }
   ],
   "source": [
    "logisticRegr = LogisticRegression()\n",
    "logisticRegr.fit(X_train, y_train)"
   ]
  },
  {
   "cell_type": "code",
   "execution_count": 9,
   "id": "1f87dc55-9116-4422-b8fd-461e3de2453f",
   "metadata": {},
   "outputs": [
    {
     "name": "stdout",
     "output_type": "stream",
     "text": [
      "0.9117647058823529\n"
     ]
    }
   ],
   "source": [
    "score = logisticRegr.score(X_test, y_test)\n",
    "print(score)"
   ]
  },
  {
   "cell_type": "code",
   "execution_count": 10,
   "id": "59f55c5d-28b8-4a82-b3cc-72d8dfde1202",
   "metadata": {},
   "outputs": [
    {
     "name": "stdout",
     "output_type": "stream",
     "text": [
      "[[63  5]\n",
      " [ 7 61]]\n"
     ]
    }
   ],
   "source": [
    "predictions = logisticRegr.predict(X_test)\n",
    "ConfusionMatrix = metrics.confusion_matrix(y_test, predictions)\n",
    "print(ConfusionMatrix)"
   ]
  },
  {
   "cell_type": "code",
   "execution_count": 11,
   "id": "eb535a17-2cea-4c97-8731-22be96343c38",
   "metadata": {},
   "outputs": [
    {
     "data": {
      "image/png": "[encoded data removed]",
      "text/plain": [
       "<Figure size 432x288 with 2 Axes>"
      ]
     },
     "metadata": {
      "needs_background": "light"
     },
     "output_type": "display_data"
    }
   ],
   "source": [
    "sns.heatmap(ConfusionMatrix, annot=True, fmt=\".3f\", linewidths=.5, square = True, cmap = 'Blues_r');\n",
    "plt.ylabel('Actual label');\n",
    "plt.xlabel('Predicted label');\n",
    "all_sample_title = 'Accuracy Score: {0}'.format(score)\n",
    "plt.title(all_sample_title, size = 15);"
   ]
  },
  {
   "cell_type": "code",
   "execution_count": 12,
   "id": "5aa420fe-55aa-4260-9b17-35d4d3f96ca4",
   "metadata": {},
   "outputs": [],
   "source": [
    "weights = np.ravel(logisticRegr.coef_)"
   ]
  },
  {
   "cell_type": "code",
   "execution_count": 13,
   "id": "5e422c69-4ee6-40ea-a40b-c728c1b377f9",
   "metadata": {},
   "outputs": [
    {
     "data": {
      "text/plain": [
       "<BarContainer object of 10 artists>"
      ]
     },
     "execution_count": 13,
     "metadata": {},
     "output_type": "execute_result"
    },
    {
     "data": {
      "image/png": "[encoded data removed]",
      "text/plain": [
       "<Figure size 864x504 with 1 Axes>"
      ]
     },
     "metadata": {
      "needs_background": "light"
     },
     "output_type": "display_data"
    }
   ],
   "source": [
    "weights = weights*10\n",
    "regionsWights = regions[0]\n",
    "\n",
    "indices = (-weights).argsort()[:10]\n",
    "plt.figure(figsize = (12,7))\n",
    "\n",
    "plt.bar(regionsWights[indices] , weights[indices], width =0.5)\n",
    "\n"
   ]
  },
  {
   "cell_type": "code",
   "execution_count": 14,
   "id": "6481c999-f703-4fde-8138-642efd9507e6",
   "metadata": {},
   "outputs": [
    {
     "data": {
      "text/plain": [
       "array(['L_PBelt', 'L_V3B', 'L_V1', 'R_A5', 'R_STSda', 'R_V3', 'L_LBelt',\n",
       "       'L_10d', 'R_3b', 'L_V4'], dtype='<U12')"
      ]
     },
     "execution_count": 14,
     "metadata": {},
     "output_type": "execute_result"
    }
   ],
   "source": [
    "regionsWights[indices]"
   ]
  },
  {
   "cell_type": "code",
   "execution_count": 15,
   "id": "2901e65d-9773-47fd-bc57-218743ddbe5f",
   "metadata": {},
   "outputs": [
    {
     "data": {
      "text/plain": [
       "array([8.98417913, 6.87635135, 6.66261241, 6.24877575, 6.08891474,\n",
       "       5.72681184, 5.63442455, 5.24727285, 5.22351295, 5.06461458])"
      ]
     },
     "execution_count": 15,
     "metadata": {},
     "output_type": "execute_result"
    }
   ],
   "source": [
    "weights[indices]"
   ]
  },
  {
   "cell_type": "code",
   "execution_count": 16,
   "id": "9e60c58a-23b7-4637-b25f-6e37fbeb14dd",
   "metadata": {},
   "outputs": [
    {
     "data": {
      "text/plain": [
       "array(['Auditory', 'Visual2', 'Visual1', 'Default', 'Default', 'Visual2',\n",
       "       'Auditory', 'Posterior-Mu', 'Somatomotor', 'Visual2'], dtype='<U12')"
      ]
     },
     "execution_count": 16,
     "metadata": {},
     "output_type": "execute_result"
    }
   ],
   "source": [
    "regions[1][indices]"
   ]
  },
  {
   "cell_type": "code",
   "execution_count": 17,
   "id": "11b2f55e-ad5e-4a73-9673-993eaccd1124",
   "metadata": {},
   "outputs": [
    {
     "data": {
      "text/plain": [
       "array([303, 198, 180, 124, 127,   4, 353, 251,   8, 185])"
      ]
     },
     "execution_count": 17,
     "metadata": {},
     "output_type": "execute_result"
    }
   ],
   "source": [
    "indices"
   ]
  },
  {
   "cell_type": "code",
   "execution_count": 15,
   "id": "1594ad3a-b4bb-4de9-8a95-8ca5246fa7b6",
   "metadata": {},
   "outputs": [],
   "source": [
    "np.save('weights.npy', weights)"
   ]
  },
  {
   "cell_type": "code",
   "execution_count": null,
   "id": "e6e93ed9-df2f-4459-ad81-f11f34dcd9b5",
   "metadata": {},
   "outputs": [],
   "source": []
  }
 ],
 "metadata": {
  "kernelspec": {
   "display_name": "Python 3",
   "language": "python",
   "name": "python3"
  },
  "language_info": {
   "codemirror_mode": {
    "name": "ipython",
    "version": 3
   },
   "file_extension": ".py",
   "mimetype": "text/x-python",
   "name": "python",
   "nbconvert_exporter": "python",
   "pygments_lexer": "ipython3",
   "version": "3.7.10"
  }
 },
 "nbformat": 4,
 "nbformat_minor": 5
}
